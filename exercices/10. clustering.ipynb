{
 "cells": [
  {
   "cell_type": "markdown",
   "metadata": {},
   "source": [
    "### **Clustering**"
   ]
  },
  {
   "cell_type": "markdown",
   "metadata": {},
   "source": [
    "---\n",
    "Separates records based on the number of clusters and categorizes them based on approximation."
   ]
  },
  {
   "cell_type": "markdown",
   "metadata": {},
   "source": [
    "#### K-Means"
   ]
  },
  {
   "cell_type": "code",
   "execution_count": null,
   "metadata": {},
   "outputs": [],
   "source": [
    "# General imports\n",
    "import pandas as pd\n",
    "\n",
    "import plotly.express as px\n",
    "import plotly.graph_objects as go\n",
    "\n",
    "from sklearn.cluster import KMeans\n",
    "from sklearn.preprocessing import StandardScaler"
   ]
  },
  {
   "cell_type": "markdown",
   "metadata": {},
   "source": [
    "##### Base Ages and Salaries"
   ]
  },
  {
   "cell_type": "code",
   "execution_count": 5,
   "metadata": {},
   "outputs": [],
   "source": [
    "x = [20,27,21,37,46,53,55,47,52,32,39,41,39,48,48]\n",
    "y = [1000,1200,2900,1850,900,950,2000,2100,3000,5900,4100,5100,7000,5000,6500]"
   ]
  },
  {
   "cell_type": "code",
   "execution_count": null,
   "metadata": {},
   "outputs": [],
   "source": [
    "graphic = px.scatter(x = x, y = y)\n",
    "graphic.show()"
   ]
  },
  {
   "cell_type": "code",
   "execution_count": null,
   "metadata": {},
   "outputs": [],
   "source": [
    "# convert array to matrix\n",
    "base_salary = []\n",
    "for num in range(len(x)):\n",
    "  base_salary.append([x[num], y[num]])"
   ]
  },
  {
   "cell_type": "code",
   "execution_count": 18,
   "metadata": {},
   "outputs": [],
   "source": [
    "# normalize\n",
    "scaler_salary = StandardScaler()\n",
    "base_salary = scaler_salary.fit_transform(base_salary)\n",
    "base_salary"
   ]
  },
  {
   "cell_type": "code",
   "execution_count": null,
   "metadata": {},
   "outputs": [],
   "source": [
    "# trainning\n",
    "kmeans_salary = KMeans(n_clusters=3)\n",
    "kmeans_salary.fit(base_salary)"
   ]
  },
  {
   "cell_type": "code",
   "execution_count": null,
   "metadata": {},
   "outputs": [],
   "source": [
    "# cluster values normalized\n",
    "centroids = kmeans_salary.cluster_centers_\n",
    "centroids"
   ]
  },
  {
   "cell_type": "code",
   "execution_count": null,
   "metadata": {},
   "outputs": [],
   "source": [
    "# cluster values\n",
    "scaler_salary.inverse_transform(kmeans_salary.cluster_centers_)"
   ]
  },
  {
   "cell_type": "code",
   "execution_count": null,
   "metadata": {},
   "outputs": [],
   "source": [
    "labels = kmeans_salary.labels_\n",
    "labels"
   ]
  },
  {
   "cell_type": "code",
   "execution_count": null,
   "metadata": {},
   "outputs": [],
   "source": [
    "graphic1 = px.scatter(x = base_salary[:, 0], y = base_salary[:, 1], color = labels)\n",
    "graphic2 = px.scatter(x = centroids[:, 0], y = centroids[:, 1], size = [12, 12, 12])\n",
    "graphic3 = go.Figure(data = graphic1.data + graphic2.data)\n",
    "graphic3.show()"
   ]
  },
  {
   "cell_type": "markdown",
   "metadata": {},
   "source": [
    "##### Base Random"
   ]
  },
  {
   "cell_type": "code",
   "execution_count": 8,
   "metadata": {},
   "outputs": [],
   "source": [
    "# generate random data\n",
    "from sklearn.datasets import make_blobs\n",
    "x_random, y_random = make_blobs(n_samples=200, centers=5, random_state=0)"
   ]
  },
  {
   "cell_type": "code",
   "execution_count": null,
   "metadata": {},
   "outputs": [],
   "source": [
    "graphic = px.scatter(x = x_random[:, 0], y = x_random[:, 1])\n",
    "graphic.show()"
   ]
  },
  {
   "cell_type": "code",
   "execution_count": null,
   "metadata": {},
   "outputs": [],
   "source": [
    "# trainning\n",
    "kmeans_blobs = KMeans(n_clusters=5)\n",
    "kmeans_blobs.fit(x_random)"
   ]
  },
  {
   "cell_type": "code",
   "execution_count": null,
   "metadata": {},
   "outputs": [],
   "source": [
    "labels = kmeans_blobs.predict(x_random)\n",
    "labels"
   ]
  },
  {
   "cell_type": "code",
   "execution_count": null,
   "metadata": {},
   "outputs": [],
   "source": [
    "centroids = kmeans_blobs.cluster_centers_\n",
    "centroids"
   ]
  },
  {
   "cell_type": "code",
   "execution_count": null,
   "metadata": {},
   "outputs": [],
   "source": [
    "graphic1 = px.scatter(x = x_random[:,0], y = x_random[:,1], color = labels)\n",
    "graphic2 = px.scatter(x = centroids[:,0], y = centroids[:,1], size = [5, 5, 5, 5, 5])\n",
    "graphic3 = go.Figure(data = graphic1.data + graphic2.data)\n",
    "graphic3.show()"
   ]
  },
  {
   "cell_type": "markdown",
   "metadata": {},
   "source": [
    "##### Base Credit Card"
   ]
  },
  {
   "cell_type": "code",
   "execution_count": null,
   "metadata": {},
   "outputs": [],
   "source": [
    "# import base\n",
    "base_card = pd.read_csv('../examples/credit_card_clients.csv', header = 1)\n",
    "base_card"
   ]
  },
  {
   "cell_type": "code",
   "execution_count": null,
   "metadata": {},
   "outputs": [],
   "source": [
    "# totalize value with prefix BILL_AM\n",
    "base_card['BILL_TOTAL'] = base_card['BILL_AMT1'] + base_card['BILL_AMT2'] + base_card['BILL_AMT3'] + base_card['BILL_AMT4'] + base_card['BILL_AMT5'] + base_card['BILL_AMT6']\n",
    "base_card"
   ]
  },
  {
   "cell_type": "code",
   "execution_count": null,
   "metadata": {},
   "outputs": [],
   "source": [
    "x_card = base_card.iloc[:, [1,25]].values\n",
    "x_card"
   ]
  },
  {
   "cell_type": "code",
   "execution_count": null,
   "metadata": {},
   "outputs": [],
   "source": [
    "x_card[:, 0], x_card[:, 1]"
   ]
  },
  {
   "cell_type": "code",
   "execution_count": 45,
   "metadata": {},
   "outputs": [
    {
     "data": {
      "text/plain": [
       "array([[-1.13672015, -0.69069198],\n",
       "       [-0.3659805 , -0.66599747],\n",
       "       [-0.59720239, -0.44316987],\n",
       "       ...,\n",
       "       [-1.05964618, -0.52525745],\n",
       "       [-0.67427636, -0.00856436],\n",
       "       [-0.90549825, -0.10271861]])"
      ]
     },
     "execution_count": 45,
     "metadata": {},
     "output_type": "execute_result"
    }
   ],
   "source": [
    "# normalize values\n",
    "scaler_card = StandardScaler()\n",
    "x_card = scaler_card.fit_transform(x_card)\n",
    "x_card"
   ]
  },
  {
   "cell_type": "code",
   "execution_count": null,
   "metadata": {},
   "outputs": [],
   "source": [
    "# generate values for analysis of number_clusters x count\n",
    "wcss = []\n",
    "for i in range(1,11):\n",
    "  kmeans_card = KMeans(n_clusters=i, random_state=0)\n",
    "  kmeans_card.fit(x_card)\n",
    "  wcss.append(kmeans_card.inertia_)\n",
    "# the best cluster size is when there is no longer a sharp decline\n",
    "graphic = px.line(x = range(1,11), y = wcss)\n",
    "graphic.show()"
   ]
  },
  {
   "cell_type": "code",
   "execution_count": 46,
   "metadata": {},
   "outputs": [],
   "source": [
    "# trainning\n",
    "kmeans_card = KMeans(n_clusters=4, random_state=0)\n",
    "labels = kmeans_card.fit_predict(x_card)"
   ]
  },
  {
   "cell_type": "code",
   "execution_count": null,
   "metadata": {},
   "outputs": [],
   "source": [
    "# x = LIMIT_BAL\n",
    "# y = BILL_TOTAL\n",
    "graphic = px.scatter(x = x_card[:, 0], y = x_card[:, 1], color = labels)\n",
    "graphic.show()"
   ]
  },
  {
   "cell_type": "markdown",
   "metadata": {},
   "source": [
    "#### Hierarchical"
   ]
  },
  {
   "cell_type": "code",
   "execution_count": 2,
   "metadata": {},
   "outputs": [],
   "source": [
    "# General imports\n",
    "import pandas as pd\n",
    "import matplotlib.pyplot as plt\n",
    "\n",
    "from scipy.cluster.hierarchy import dendrogram, linkage\n",
    "\n",
    "import plotly.express as px\n",
    "\n",
    "from sklearn.cluster import AgglomerativeClustering\n",
    "from sklearn.preprocessing import StandardScaler"
   ]
  },
  {
   "cell_type": "markdown",
   "metadata": {},
   "source": [
    "##### Base Ages and Salaries"
   ]
  },
  {
   "cell_type": "code",
   "execution_count": null,
   "metadata": {},
   "outputs": [],
   "source": [
    "# generate fixed base\n",
    "x = [20,27,21,37,46,53,55,47,52,32,39,41,39,48,48]\n",
    "y = [1000,1200,2900,1850,900,950,2000,2100,3000,5900,4100,5100,7000,5000,6500]\n",
    "\n",
    "# convert array to matrix\n",
    "base_salary = []\n",
    "for num in range(len(x)):\n",
    "  base_salary.append([x[num], y[num]])\n",
    "\n",
    "# normalize\n",
    "scaler_salary = StandardScaler()\n",
    "base_salary = scaler_salary.fit_transform(base_salary)\n",
    "base_salary"
   ]
  },
  {
   "cell_type": "code",
   "execution_count": null,
   "metadata": {},
   "outputs": [],
   "source": [
    "dendgr = dendrogram(linkage(base_salary, method='ward'))\n",
    "plt.title('Dendgram')\n",
    "plt.xlabel('Persons')\n",
    "plt.ylabel('Distances')"
   ]
  },
  {
   "cell_type": "code",
   "execution_count": null,
   "metadata": {},
   "outputs": [],
   "source": [
    "# trainning\n",
    "hc_salary = AgglomerativeClustering(n_clusters=3, linkage='ward')\n",
    "labels = hc_salary.fit_predict(base_salary)\n",
    "labels"
   ]
  },
  {
   "cell_type": "code",
   "execution_count": null,
   "metadata": {},
   "outputs": [],
   "source": [
    "graphic = px.scatter(x = base_salary[:,0], y = base_salary[:,1], color=labels)\n",
    "graphic.show()"
   ]
  },
  {
   "cell_type": "markdown",
   "metadata": {},
   "source": [
    "##### Base Credit Card"
   ]
  },
  {
   "cell_type": "code",
   "execution_count": 12,
   "metadata": {},
   "outputs": [],
   "source": [
    "# import base\n",
    "base_card = pd.read_csv('../examples/credit_card_clients.csv', header = 1)\n",
    "base_card\n",
    "\n",
    "# totalize value with prefix BILL_AM\n",
    "base_card['BILL_TOTAL'] = base_card['BILL_AMT1'] + base_card['BILL_AMT2'] + base_card['BILL_AMT3'] + base_card['BILL_AMT4'] + base_card['BILL_AMT5'] + base_card['BILL_AMT6']\n",
    "base_card\n",
    "\n",
    "x_card = base_card.iloc[:, [1,25]].values[:1000]\n",
    "\n",
    "# normalize values\n",
    "scaler_card = StandardScaler()\n",
    "x_card = scaler_card.fit_transform(x_card)"
   ]
  },
  {
   "cell_type": "code",
   "execution_count": null,
   "metadata": {},
   "outputs": [],
   "source": [
    "# used to identify the best number of clusters \n",
    "dendgr = dendrogram(linkage(x_card, method='ward'))\n",
    "# get the longest straight line with the greatest number of intersections"
   ]
  },
  {
   "cell_type": "code",
   "execution_count": 14,
   "metadata": {},
   "outputs": [],
   "source": [
    "# trainning\n",
    "hc_card = AgglomerativeClustering(n_clusters=3, linkage='ward')\n",
    "labels = hc_card.fit_predict(x_card)"
   ]
  },
  {
   "cell_type": "code",
   "execution_count": null,
   "metadata": {},
   "outputs": [],
   "source": [
    "graphic = px.scatter(x = x_card[:,0], y = x_card[:,1], color=labels)\n",
    "graphic.show()"
   ]
  },
  {
   "cell_type": "markdown",
   "metadata": {},
   "source": [
    "#### DBSCAN"
   ]
  },
  {
   "cell_type": "code",
   "execution_count": 31,
   "metadata": {},
   "outputs": [],
   "source": [
    "# General imports\n",
    "import pandas as pd\n",
    "import numpy as np\n",
    "import matplotlib.pyplot as plt\n",
    "\n",
    "import plotly.express as px\n",
    "\n",
    "from sklearn.cluster import DBSCAN\n",
    "from sklearn.preprocessing import StandardScaler"
   ]
  },
  {
   "cell_type": "markdown",
   "metadata": {},
   "source": [
    "##### Base Ages and Salaries"
   ]
  },
  {
   "cell_type": "code",
   "execution_count": null,
   "metadata": {},
   "outputs": [],
   "source": [
    "# generate fixed base\n",
    "x = [20,27,21,37,46,53,55,47,52,32,39,41,39,48,48]\n",
    "y = [1000,1200,2900,1850,900,950,2000,2100,3000,5900,4100,5100,7000,5000,6500]\n",
    "\n",
    "# convert array to matrix\n",
    "base_salary = []\n",
    "for num in range(len(x)):\n",
    "  base_salary.append([x[num], y[num]])\n",
    "\n",
    "# normalize\n",
    "scaler_salary = StandardScaler()\n",
    "base_salary = scaler_salary.fit_transform(base_salary)\n",
    "base_salary"
   ]
  },
  {
   "cell_type": "code",
   "execution_count": null,
   "metadata": {},
   "outputs": [],
   "source": [
    "# trainning\n",
    "dbscan_salary = DBSCAN(eps=0.95, min_samples=2)\n",
    "dbscan_salary.fit(base_salary)"
   ]
  },
  {
   "cell_type": "code",
   "execution_count": null,
   "metadata": {},
   "outputs": [],
   "source": [
    "labels = dbscan_salary.labels_\n",
    "labels"
   ]
  },
  {
   "cell_type": "code",
   "execution_count": null,
   "metadata": {},
   "outputs": [],
   "source": [
    "graphic = px.scatter(x = base_salary[:,0], y = base_salary[:,1], color = labels)\n",
    "graphic.show()"
   ]
  },
  {
   "cell_type": "markdown",
   "metadata": {},
   "source": [
    "#### Base Credit Card"
   ]
  },
  {
   "cell_type": "code",
   "execution_count": 27,
   "metadata": {},
   "outputs": [],
   "source": [
    "# import base\n",
    "base_card = pd.read_csv('../examples/credit_card_clients.csv', header = 1)\n",
    "base_card\n",
    "\n",
    "# totalize value with prefix BILL_AM\n",
    "base_card['BILL_TOTAL'] = base_card['BILL_AMT1'] + base_card['BILL_AMT2'] + base_card['BILL_AMT3'] + base_card['BILL_AMT4'] + base_card['BILL_AMT5'] + base_card['BILL_AMT6']\n",
    "base_card\n",
    "\n",
    "x_card = base_card.iloc[:, [1,25]].values[:1000]\n",
    "\n",
    "# normalize values\n",
    "scaler_card = StandardScaler()\n",
    "x_card = scaler_card.fit_transform(x_card)"
   ]
  },
  {
   "cell_type": "code",
   "execution_count": 37,
   "metadata": {},
   "outputs": [],
   "source": [
    "# trainning\n",
    "dbscan_card = DBSCAN(eps=0.37, min_samples=5)\n",
    "labels = dbscan_card.fit_predict(x_card)"
   ]
  },
  {
   "cell_type": "code",
   "execution_count": null,
   "metadata": {},
   "outputs": [],
   "source": [
    "np.unique(labels, return_counts = True)"
   ]
  },
  {
   "cell_type": "code",
   "execution_count": null,
   "metadata": {},
   "outputs": [],
   "source": [
    "graphic = px.scatter(x = x_card[:,0], y = x_card[:,1], color=labels)\n",
    "graphic.show()"
   ]
  }
 ],
 "metadata": {
  "kernelspec": {
   "display_name": "Python 3",
   "language": "python",
   "name": "python3"
  },
  "language_info": {
   "codemirror_mode": {
    "name": "ipython",
    "version": 3
   },
   "file_extension": ".py",
   "mimetype": "text/x-python",
   "name": "python",
   "nbconvert_exporter": "python",
   "pygments_lexer": "ipython3",
   "version": "3.12.1"
  }
 },
 "nbformat": 4,
 "nbformat_minor": 2
}
