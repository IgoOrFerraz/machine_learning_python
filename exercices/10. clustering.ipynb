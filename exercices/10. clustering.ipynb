{
 "cells": [
  {
   "cell_type": "markdown",
   "metadata": {},
   "source": [
    "### **Clustering**"
   ]
  },
  {
   "cell_type": "markdown",
   "metadata": {},
   "source": [
    "---"
   ]
  },
  {
   "cell_type": "markdown",
   "metadata": {},
   "source": [
    "#### Base Ages and Salaries"
   ]
  },
  {
   "cell_type": "code",
   "execution_count": 28,
   "metadata": {},
   "outputs": [],
   "source": [
    "# General imports\n",
    "import pandas as pd\n",
    "import plotly.express as px\n",
    "import plotly.graph_objects as go\n",
    "\n",
    "from sklearn.cluster import KMeans\n",
    "from sklearn.preprocessing import StandardScaler"
   ]
  },
  {
   "cell_type": "code",
   "execution_count": 5,
   "metadata": {},
   "outputs": [],
   "source": [
    "x = [20,27,21,37,46,53,55,47,52,32,39,41,39,48,48]\n",
    "y = [1000,1200,2900,1850,900,950,2000,2100,3000,5900,4100,5100,7000,5000,6500]"
   ]
  },
  {
   "cell_type": "code",
   "execution_count": null,
   "metadata": {},
   "outputs": [],
   "source": [
    "graphic = px.scatter(x = x, y = y)\n",
    "graphic.show()"
   ]
  },
  {
   "cell_type": "code",
   "execution_count": null,
   "metadata": {},
   "outputs": [],
   "source": [
    "# convert array to matrix\n",
    "base_salary = []\n",
    "for num in range(len(x)):\n",
    "  base_salary.append([x[num], y[num]])"
   ]
  },
  {
   "cell_type": "code",
   "execution_count": 18,
   "metadata": {},
   "outputs": [],
   "source": [
    "# normalize\n",
    "scaler_salary = StandardScaler()\n",
    "base_salary = scaler_salary.fit_transform(base_salary)\n",
    "base_salary"
   ]
  },
  {
   "cell_type": "code",
   "execution_count": null,
   "metadata": {},
   "outputs": [],
   "source": [
    "# trainning\n",
    "kmeans_salary = KMeans(n_clusters=3)\n",
    "kmeans_salary.fit(base_salary)"
   ]
  },
  {
   "cell_type": "code",
   "execution_count": null,
   "metadata": {},
   "outputs": [],
   "source": [
    "# cluster values normalized\n",
    "centroids = kmeans_salary.cluster_centers_\n",
    "centroids"
   ]
  },
  {
   "cell_type": "code",
   "execution_count": null,
   "metadata": {},
   "outputs": [],
   "source": [
    "# cluster values\n",
    "scaler_salary.inverse_transform(kmeans_salary.cluster_centers_)"
   ]
  },
  {
   "cell_type": "code",
   "execution_count": null,
   "metadata": {},
   "outputs": [],
   "source": [
    "labels = kmeans_salary.labels_\n",
    "labels"
   ]
  },
  {
   "cell_type": "code",
   "execution_count": null,
   "metadata": {},
   "outputs": [],
   "source": [
    "graphic1 = px.scatter(x = base_salary[:, 0], y = base_salary[:, 1], color = labels)\n",
    "graphic2 = px.scatter(x = centroids[:, 0], y = centroids[:, 1], size = [12, 12, 12])\n",
    "graphic3 = go.Figure(data = graphic1.data + graphic2.data)\n",
    "graphic3.show()"
   ]
  },
  {
   "cell_type": "markdown",
   "metadata": {},
   "source": [
    "#### Base Random"
   ]
  },
  {
   "cell_type": "code",
   "execution_count": 4,
   "metadata": {},
   "outputs": [],
   "source": [
    "# General imports\n",
    "import plotly.express as px\n",
    "import plotly.graph_objects as go\n",
    "from sklearn.datasets import make_blobs\n",
    "from sklearn.cluster import KMeans"
   ]
  },
  {
   "cell_type": "code",
   "execution_count": 8,
   "metadata": {},
   "outputs": [],
   "source": [
    "# generate random data\n",
    "x_random, y_random = make_blobs(n_samples=200, centers=5, random_state=0)"
   ]
  },
  {
   "cell_type": "code",
   "execution_count": null,
   "metadata": {},
   "outputs": [],
   "source": [
    "graphic = px.scatter(x = x_random[:, 0], y = x_random[:, 1])\n",
    "graphic.show()"
   ]
  },
  {
   "cell_type": "code",
   "execution_count": null,
   "metadata": {},
   "outputs": [],
   "source": [
    "# trainning\n",
    "kmeans_blobs = KMeans(n_clusters=5)\n",
    "kmeans_blobs.fit(x_random)"
   ]
  },
  {
   "cell_type": "code",
   "execution_count": null,
   "metadata": {},
   "outputs": [],
   "source": [
    "labels = kmeans_blobs.predict(x_random)\n",
    "labels"
   ]
  },
  {
   "cell_type": "code",
   "execution_count": null,
   "metadata": {},
   "outputs": [],
   "source": [
    "centroids = kmeans_blobs.cluster_centers_\n",
    "centroids"
   ]
  },
  {
   "cell_type": "code",
   "execution_count": null,
   "metadata": {},
   "outputs": [],
   "source": [
    "graphic1 = px.scatter(x = x_random[:,0], y = x_random[:,1], color = labels)\n",
    "graphic2 = px.scatter(x = centroids[:,0], y = centroids[:,1], size = [5, 5, 5, 5, 5])\n",
    "graphic3 = go.Figure(data = graphic1.data + graphic2.data)\n",
    "graphic3.show()"
   ]
  },
  {
   "cell_type": "markdown",
   "metadata": {},
   "source": [
    "#### Base Credit Card"
   ]
  },
  {
   "cell_type": "code",
   "execution_count": 28,
   "metadata": {},
   "outputs": [],
   "source": [
    "# General imports\n",
    "import pandas as pd\n",
    "\n",
    "from sklearn.cluster import KMeans\n",
    "from sklearn.preprocessing import StandardScaler"
   ]
  },
  {
   "cell_type": "code",
   "execution_count": null,
   "metadata": {},
   "outputs": [],
   "source": [
    "# import base\n",
    "base_card = pd.read_csv('../examples/credit_card_clients.csv', header = 1)\n",
    "base_card"
   ]
  },
  {
   "cell_type": "code",
   "execution_count": null,
   "metadata": {},
   "outputs": [],
   "source": [
    "# totalize value with prefix BILL_AM\n",
    "base_card['BILL_TOTAL'] = base_card['BILL_AMT1'] + base_card['BILL_AMT2'] + base_card['BILL_AMT3'] + base_card['BILL_AMT4'] + base_card['BILL_AMT5'] + base_card['BILL_AMT6']\n",
    "base_card"
   ]
  },
  {
   "cell_type": "code",
   "execution_count": null,
   "metadata": {},
   "outputs": [],
   "source": [
    "x_card = base_card.iloc[:, [1,25]].values\n",
    "x_card"
   ]
  },
  {
   "cell_type": "code",
   "execution_count": null,
   "metadata": {},
   "outputs": [],
   "source": [
    "x_card[:, 0], x_card[:, 1]"
   ]
  },
  {
   "cell_type": "code",
   "execution_count": 45,
   "metadata": {},
   "outputs": [
    {
     "data": {
      "text/plain": [
       "array([[-1.13672015, -0.69069198],\n",
       "       [-0.3659805 , -0.66599747],\n",
       "       [-0.59720239, -0.44316987],\n",
       "       ...,\n",
       "       [-1.05964618, -0.52525745],\n",
       "       [-0.67427636, -0.00856436],\n",
       "       [-0.90549825, -0.10271861]])"
      ]
     },
     "execution_count": 45,
     "metadata": {},
     "output_type": "execute_result"
    }
   ],
   "source": [
    "# normalize values\n",
    "scaler_card = StandardScaler()\n",
    "x_card = scaler_card.fit_transform(x_card)\n",
    "x_card"
   ]
  },
  {
   "cell_type": "code",
   "execution_count": null,
   "metadata": {},
   "outputs": [],
   "source": [
    "# generate values for analysis of number_clusters x count\n",
    "wcss = []\n",
    "for i in range(1,11):\n",
    "  kmeans_card = KMeans(n_clusters=i, random_state=0)\n",
    "  kmeans_card.fit(x_card)\n",
    "  wcss.append(kmeans_card.inertia_)\n",
    "# the best cluster size is when there is no longer a sharp decline\n",
    "graphic = px.line(x = range(1,11), y = wcss)\n",
    "graphic.show()"
   ]
  },
  {
   "cell_type": "code",
   "execution_count": 46,
   "metadata": {},
   "outputs": [],
   "source": [
    "# trainning\n",
    "kmeans_card = KMeans(n_clusters=4, random_state=0)\n",
    "labels = kmeans_card.fit_predict(x_card)"
   ]
  },
  {
   "cell_type": "code",
   "execution_count": null,
   "metadata": {},
   "outputs": [],
   "source": [
    "# x = LIMIT_BAL\n",
    "# y = BILL_TOTAL\n",
    "graphic = px.scatter(x = x_card[:, 0], y = x_card[:, 1], color = labels)\n",
    "graphic.show()"
   ]
  }
 ],
 "metadata": {
  "kernelspec": {
   "display_name": "Python 3",
   "language": "python",
   "name": "python3"
  },
  "language_info": {
   "codemirror_mode": {
    "name": "ipython",
    "version": 3
   },
   "file_extension": ".py",
   "mimetype": "text/x-python",
   "name": "python",
   "nbconvert_exporter": "python",
   "pygments_lexer": "ipython3",
   "version": "3.12.1"
  }
 },
 "nbformat": 4,
 "nbformat_minor": 2
}
