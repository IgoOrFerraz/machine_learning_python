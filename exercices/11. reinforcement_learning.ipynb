{
 "cells": [
  {
   "cell_type": "markdown",
   "metadata": {},
   "source": [
    "### **Reinforcement Learning**"
   ]
  },
  {
   "cell_type": "markdown",
   "metadata": {},
   "source": [
    "---"
   ]
  },
  {
   "cell_type": "markdown",
   "metadata": {},
   "source": [
    "#### Q-Learning"
   ]
  },
  {
   "cell_type": "code",
   "execution_count": 20,
   "metadata": {},
   "outputs": [
    {
     "data": {
      "text/plain": [
       "'0.17.3'"
      ]
     },
     "execution_count": 20,
     "metadata": {},
     "output_type": "execute_result"
    }
   ],
   "source": [
    "# General imports\n",
    "import gym\n",
    "import numpy as np\n",
    "from time import sleep\n",
    "from IPython.display import clear_output"
   ]
  },
  {
   "cell_type": "code",
   "execution_count": null,
   "metadata": {},
   "outputs": [],
   "source": [
    "env = gym.make('Taxi-v3').env\n",
    "env.reset()\n",
    "env.render()"
   ]
  },
  {
   "cell_type": "code",
   "execution_count": null,
   "metadata": {},
   "outputs": [],
   "source": [
    "# 0  = south, 1 = north, 2 = east, 3 = west, 4  = pickup, 5 = dropoff\n",
    "env.action_space"
   ]
  },
  {
   "cell_type": "markdown",
   "metadata": {},
   "source": [
    "Temporal difference (Q-learning)"
   ]
  },
  {
   "attachments": {
    "image.png": {
     "image/png": "[encoded data removed]"
    }
   },
   "cell_type": "markdown",
   "metadata": {},
   "source": [
    "![image.png](attachment:image.png)"
   ]
  },
  {
   "cell_type": "code",
   "execution_count": 8,
   "metadata": {},
   "outputs": [
    {
     "data": {
      "text/plain": [
       "(500, 6)"
      ]
     },
     "execution_count": 8,
     "metadata": {},
     "output_type": "execute_result"
    }
   ],
   "source": [
    "q_table = np.zeros([env.observation_space.n, env.action_space.n])\n",
    "q_table.shape"
   ]
  },
  {
   "cell_type": "code",
   "execution_count": null,
   "metadata": {},
   "outputs": [],
   "source": [
    "%%time\n",
    "\n",
    "alpha = 0.1\n",
    "gamma = 0.6\n",
    "epsilon = 0.1\n",
    "\n",
    "for i in range(10000): # episodes / game\n",
    "  # get actual position\n",
    "  state = env.reset()\n",
    "\n",
    "  penalties, reward = 0, 0\n",
    "  done = False\n",
    "  while not done:\n",
    "    # Exploration\n",
    "    if random.uniform(0, 1) < epsilon:\n",
    "      action = env.action_space.sample()\n",
    "    # Exploitation\n",
    "    else:\n",
    "      # get the best position to move\n",
    "      action = np.argmax(q_table[state])\n",
    "    \n",
    "    next_state, reward, done, info = env.step(action)\n",
    "    \n",
    "    q_old = q_table[state, action]\n",
    "    next_max = np.max(q_table[next_state])\n",
    "    \n",
    "    q_new = (1 - alpha) * q_old + alpha * (reward + gamma * next_max)\n",
    "    q_table[state, action] = q_new\n",
    "\n",
    "    if reward == -10:\n",
    "      penalties += 1\n",
    "\n",
    "    state = next_state\n",
    "\n",
    "  if i % 100 == 0:\n",
    "    clear_output(wait=True)\n",
    "    print('Episode: ', i)\n",
    "print('The training has finished!')"
   ]
  },
  {
   "cell_type": "code",
   "execution_count": null,
   "metadata": {},
   "outputs": [],
   "source": [
    "env.render()"
   ]
  },
  {
   "cell_type": "code",
   "execution_count": null,
   "metadata": {},
   "outputs": [],
   "source": [
    "# Evaluation\n",
    "total_penalties = 0\n",
    "episodes = 50\n",
    "frames = []\n",
    "\n",
    "for _ in range(episodes):\n",
    "  state = env.reset()\n",
    "  penalties, reward = 0, 0\n",
    "  done = False\n",
    "  while not done:\n",
    "    action = np.argmax(q_table[state])\n",
    "    state, reward, done, info = env.step(action)\n",
    "\n",
    "    if reward == -10:\n",
    "      penalties += 1\n",
    "\n",
    "    frames.append({\n",
    "        'frame': env.render(mode='ansi'),\n",
    "        'state': state,\n",
    "        'action': action,\n",
    "        'reward': reward\n",
    "    })\n",
    "\n",
    "  total_penalties += penalties\n",
    "\n",
    "print('Episodes: ', episodes)\n",
    "print('Penalties: ', total_penalties)"
   ]
  },
  {
   "cell_type": "code",
   "execution_count": null,
   "metadata": {},
   "outputs": [],
   "source": [
    "for frame in frames:\n",
    "  clear_output(wait=True)\n",
    "  print(frame['frame'])\n",
    "  print('State', frame['state'])\n",
    "  print('Action', frame['action'])\n",
    "  print('Reward', frame['reward'])\n",
    "  sleep(.5)"
   ]
  }
 ],
 "metadata": {
  "kernelspec": {
   "display_name": "Python 3",
   "language": "python",
   "name": "python3"
  },
  "language_info": {
   "codemirror_mode": {
    "name": "ipython",
    "version": 3
   },
   "file_extension": ".py",
   "mimetype": "text/x-python",
   "name": "python",
   "nbconvert_exporter": "python",
   "pygments_lexer": "ipython3",
   "version": "3.12.1"
  }
 },
 "nbformat": 4,
 "nbformat_minor": 2
}
