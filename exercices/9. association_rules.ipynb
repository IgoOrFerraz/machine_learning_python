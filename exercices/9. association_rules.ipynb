{
 "cells": [
  {
   "cell_type": "markdown",
   "metadata": {},
   "source": [
    "### **Association Rules**"
   ]
  },
  {
   "cell_type": "markdown",
   "metadata": {},
   "source": [
    "---\n",
    "Learning based on the avg of items in a matrix and the quantity in relation with other items. Resulting in more frequent combinations.\n",
    "\n",
    "> Usually used to quantify products for tie-in sales."
   ]
  },
  {
   "cell_type": "markdown",
   "metadata": {},
   "source": [
    "#### Apriori"
   ]
  },
  {
   "cell_type": "code",
   "execution_count": 1,
   "metadata": {},
   "outputs": [],
   "source": [
    "# General imports\n",
    "import pandas as pd\n",
    "from apyori import apriori"
   ]
  },
  {
   "cell_type": "code",
   "execution_count": null,
   "metadata": {},
   "outputs": [],
   "source": [
    "# import base\n",
    "base_market = pd.read_csv('../examples/market.csv', header = None)\n",
    "#base_market = pd.read_csv('../examples/market2.csv', header = None)\n",
    "base_market"
   ]
  },
  {
   "cell_type": "code",
   "execution_count": null,
   "metadata": {},
   "outputs": [],
   "source": [
    "# get values\n",
    "transacts = []\n",
    "for i in range(len(base_market)):\n",
    "  transacts.append([str(base_market.values[i, j]) for j in range(base_market.shape[1])])\n",
    "transacts"
   ]
  },
  {
   "cell_type": "code",
   "execution_count": 54,
   "metadata": {},
   "outputs": [],
   "source": [
    "# learning\n",
    "# support - Proportional frequency of an item in the database\n",
    "rules = apriori(transacts, min_support = 0.3, min_confidence = 0.8, min_lift = 2)\n",
    "#rules = apriori(transacts, min_support = 0.003, min_confidence = 0.2, min_lift = 3)\n",
    "results = list(rules)"
   ]
  },
  {
   "cell_type": "code",
   "execution_count": 55,
   "metadata": {},
   "outputs": [],
   "source": [
    "# generate list for analysis\n",
    "A = []\n",
    "B = []\n",
    "support = []\n",
    "confidence = []\n",
    "lift = []\n",
    "for result in results:\n",
    "  s = result[1]\n",
    "  result_rules = result[2]\n",
    "  for result_rule in result_rules:\n",
    "    a = list(result_rule[0])\n",
    "    b = list(result_rule[1])\n",
    "    c = result_rule[2]\n",
    "    l = result_rule[3]\n",
    "    # print(a, ' - ', b, ' - ', c, ' - ', l)\n",
    "    A.append(a)\n",
    "    B.append(b)\n",
    "    support.append(s)\n",
    "    confidence.append(c)\n",
    "    lift.append(l)"
   ]
  },
  {
   "cell_type": "code",
   "execution_count": null,
   "metadata": {},
   "outputs": [],
   "source": [
    "rules_df = pd.DataFrame({'IF': A, 'THEN': B, 'support': support, 'confidence': confidence, 'lift': lift})\n",
    "rules_df.sort_values(by = 'lift', ascending = False)"
   ]
  },
  {
   "cell_type": "markdown",
   "metadata": {},
   "source": [
    "#### ECLAT"
   ]
  },
  {
   "cell_type": "code",
   "execution_count": 57,
   "metadata": {},
   "outputs": [],
   "source": [
    "# General imports\n",
    "import pandas as pd\n",
    "from pyECLAT import ECLAT"
   ]
  },
  {
   "cell_type": "code",
   "execution_count": null,
   "metadata": {},
   "outputs": [],
   "source": [
    "# import base\n",
    "base_market = pd.read_csv('../examples/market.csv', header = None)\n",
    "base_market"
   ]
  },
  {
   "cell_type": "code",
   "execution_count": null,
   "metadata": {},
   "outputs": [],
   "source": [
    "# learning\n",
    "eclat = ECLAT(data = base_market)\n",
    "#eclat.df_bin\n",
    "#eclat.uniq_\n",
    "indices, support = eclat.fit(min_support=0.3, min_combination=1,max_combination=3)"
   ]
  },
  {
   "cell_type": "code",
   "execution_count": null,
   "metadata": {},
   "outputs": [],
   "source": [
    "indices"
   ]
  },
  {
   "cell_type": "code",
   "execution_count": null,
   "metadata": {},
   "outputs": [],
   "source": [
    "support"
   ]
  }
 ],
 "metadata": {
  "kernelspec": {
   "display_name": "Python 3",
   "language": "python",
   "name": "python3"
  },
  "language_info": {
   "codemirror_mode": {
    "name": "ipython",
    "version": 3
   },
   "file_extension": ".py",
   "mimetype": "text/x-python",
   "name": "python",
   "nbconvert_exporter": "python",
   "pygments_lexer": "ipython3",
   "version": "3.12.1"
  }
 },
 "nbformat": 4,
 "nbformat_minor": 2
}
