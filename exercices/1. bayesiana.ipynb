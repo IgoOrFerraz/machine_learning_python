{
 "cells": [
  {
   "cell_type": "markdown",
   "metadata": {},
   "source": [
    "-- Bayes Theorem --"
   ]
  },
  {
   "cell_type": "markdown",
   "metadata": {},
   "source": [
    "describes the probability of an event, based on a priori knowledge that may be related to the event.\n",
    "\n",
    "Used as an example in:\n",
    "- spam filters;\n",
    "- emotion mining;\n",
    "- separation of documents;"
   ]
  },
  {
   "cell_type": "code",
   "execution_count": 1,
   "metadata": {
    "tags": [
     "teste"
    ]
   },
   "outputs": [],
   "source": [
    "import pandas as pd\n",
    "# read file\n",
    "base_credit_risk = pd.read_csv('../examples/credit_risk.csv')\n",
    "# separate data in categories and results\n",
    "x_credit_risk = base_credit_risk.iloc[:, 0:4].values # categories\n",
    "y_credit_risk = base_credit_risk.iloc[:, 4].values # results"
   ]
  },
  {
   "cell_type": "code",
   "execution_count": null,
   "metadata": {},
   "outputs": [],
   "source": [
    "# show formatted categories to trainning\n",
    "x_credit_risk"
   ]
  },
  {
   "cell_type": "code",
   "execution_count": null,
   "metadata": {},
   "outputs": [],
   "source": [
    "# show results to trainning\n",
    "y_credit_risk"
   ]
  },
  {
   "cell_type": "code",
   "execution_count": 2,
   "metadata": {},
   "outputs": [],
   "source": [
    "from sklearn.naive_bayes import GaussianNB\n",
    "from sklearn.preprocessing import LabelEncoder\n",
    "# set default label for each category\n",
    "label_encoder_history = LabelEncoder()\n",
    "label_encoder_debt = LabelEncoder()\n",
    "label_encoder_collateral = LabelEncoder()\n",
    "label_encoder_income = LabelEncoder()"
   ]
  },
  {
   "cell_type": "code",
   "execution_count": null,
   "metadata": {},
   "outputs": [],
   "source": [
    "# transform categories to unique int value for each category\n",
    "x_credit_risk[:,0] = label_encoder_history.fit_transform(x_credit_risk[:,0])\n",
    "x_credit_risk[:,1] = label_encoder_debt.fit_transform(x_credit_risk[:,1])\n",
    "x_credit_risk[:,2] = label_encoder_collateral.fit_transform(x_credit_risk[:,2])\n",
    "x_credit_risk[:,3] = label_encoder_income.fit_transform(x_credit_risk[:,3])\n",
    "# show credit risk formatted\n",
    "x_credit_risk"
   ]
  },
  {
   "cell_type": "code",
   "execution_count": 8,
   "metadata": {},
   "outputs": [],
   "source": [
    "# procedure necessary to get data after fit without necessity to re-encoder \n",
    "import pickle\n",
    "# add serialized data in file opened\n",
    "with open('../examples/credit_risk.pkl', 'wb') as f:\n",
    "  pickle.dump([x_credit_risk, y_credit_risk], f)"
   ]
  },
  {
   "cell_type": "code",
   "execution_count": null,
   "metadata": {},
   "outputs": [],
   "source": [
    "# training algorithm\n",
    "naive_credit_risk = GaussianNB()\n",
    "naive_credit_risk.fit(x_credit_risk, y_credit_risk)"
   ]
  },
  {
   "cell_type": "code",
   "execution_count": null,
   "metadata": {},
   "outputs": [],
   "source": [
    "# examples to predict\n",
    "## historia boa (0), dívida alta (0), garantias nenhuma (1), renda > 35 (2) # must be \"baixo\"\n",
    "## historia ruim (2), dívida alta (0), garantias adequada (0), renda < 15 (0) # must be \"moderado\"\n",
    "\n",
    "# predict algotithm\n",
    "prevision = naive_credit_risk.predict([[0,0,1,2], [2,0,0,0]])\n",
    "# show predict\n",
    "prevision"
   ]
  }
 ],
 "metadata": {
  "kernelspec": {
   "display_name": "Python 3",
   "language": "python",
   "name": "python3"
  },
  "language_info": {
   "codemirror_mode": {
    "name": "ipython",
    "version": 3
   },
   "file_extension": ".py",
   "mimetype": "text/x-python",
   "name": "python",
   "nbconvert_exporter": "python",
   "pygments_lexer": "ipython3",
   "version": "3.12.1"
  }
 },
 "nbformat": 4,
 "nbformat_minor": 2
}
