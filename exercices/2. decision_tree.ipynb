{
 "cells": [
  {
   "cell_type": "markdown",
   "metadata": {},
   "source": [
    "**Decision Tree**"
   ]
  },
  {
   "cell_type": "markdown",
   "metadata": {},
   "source": [
    "---\n",
    "Describes the possibility of an event occurring using as a basis the calculation of gain by entropy.\n",
    "\n",
    "> Entropy define the degree of uncertainty, how much more entropy has in base of data, more uncertainty has.\n",
    "\n",
    "That is, the classifications with greater weight in the overview will have greater influence on the result and be placed in the base of decision tree."
   ]
  },
  {
   "cell_type": "code",
   "execution_count": 8,
   "metadata": {},
   "outputs": [],
   "source": [
    "# General imports\n",
    "from sklearn.tree import DecisionTreeClassifier"
   ]
  },
  {
   "cell_type": "markdown",
   "metadata": {},
   "source": [
    "##### Credit Risk"
   ]
  },
  {
   "cell_type": "code",
   "execution_count": 6,
   "metadata": {},
   "outputs": [],
   "source": [
    "import pickle\n",
    "# add serialized data in file opened\n",
    "with open('../examples/credit_risk.pkl', 'rb') as f:\n",
    "  # formalize categories\n",
    "  x_credit_risk, y_credit_risk = pickle.load(f)"
   ]
  },
  {
   "cell_type": "code",
   "execution_count": null,
   "metadata": {},
   "outputs": [],
   "source": [
    "# show formatted categories to trainning\n",
    "x_credit_risk"
   ]
  },
  {
   "cell_type": "code",
   "execution_count": null,
   "metadata": {},
   "outputs": [],
   "source": [
    "# show results to trainning\n",
    "y_credit_risk"
   ]
  },
  {
   "cell_type": "code",
   "execution_count": null,
   "metadata": {},
   "outputs": [],
   "source": [
    "# training algorithm\n",
    "credit_risk_tree = DecisionTreeClassifier(criterion='entropy')\n",
    "credit_risk_tree.fit(x_credit_risk, y_credit_risk)"
   ]
  },
  {
   "cell_type": "code",
   "execution_count": null,
   "metadata": {},
   "outputs": [],
   "source": [
    "# show importances values of categories fited\n",
    "credit_risk_tree.feature_importances_"
   ]
  },
  {
   "cell_type": "code",
   "execution_count": null,
   "metadata": {},
   "outputs": [],
   "source": [
    "# show tree of decision\n",
    "from sklearn import tree\n",
    "tree.export_text(credit_risk_tree)"
   ]
  },
  {
   "cell_type": "code",
   "execution_count": null,
   "metadata": {},
   "outputs": [],
   "source": [
    "# examples to predict\n",
    "## historia boa (0), dívida alta (0), garantias nenhuma (1), renda > 35 (2) # must be \"baixo\"\n",
    "## historia ruim (2), dívida alta (0), garantias adequada (0), renda < 15 (0) # must be \"moderado\"\n",
    "\n",
    "# predict algotithm\n",
    "predict = credit_risk_tree.predict([[0,0,1,2], [2,0,0,0]])\n",
    "# show predict\n",
    "predict"
   ]
  },
  {
   "cell_type": "markdown",
   "metadata": {},
   "source": [
    "##### Base Credit data"
   ]
  },
  {
   "cell_type": "code",
   "execution_count": null,
   "metadata": {},
   "outputs": [],
   "source": []
  },
  {
   "cell_type": "markdown",
   "metadata": {},
   "source": [
    "##### Base Census"
   ]
  },
  {
   "cell_type": "code",
   "execution_count": null,
   "metadata": {},
   "outputs": [],
   "source": []
  }
 ],
 "metadata": {
  "kernelspec": {
   "display_name": "Python 3",
   "language": "python",
   "name": "python3"
  },
  "language_info": {
   "codemirror_mode": {
    "name": "ipython",
    "version": 3
   },
   "file_extension": ".py",
   "mimetype": "text/x-python",
   "name": "python",
   "nbconvert_exporter": "python",
   "pygments_lexer": "ipython3",
   "version": "3.12.1"
  }
 },
 "nbformat": 4,
 "nbformat_minor": 2
}
