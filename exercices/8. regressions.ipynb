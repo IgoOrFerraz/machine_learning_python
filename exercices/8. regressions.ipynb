{
 "cells": [
  {
   "cell_type": "markdown",
   "metadata": {},
   "source": [
    "#### **Linear Regression**"
   ]
  },
  {
   "cell_type": "markdown",
   "metadata": {},
   "source": [
    "---\n",
    "Linear Regression predicts a value of a dependent value by an independent value. \n",
    "\n",
    "On the other hand, its the way to predict the evolution or regression of this value in contrast to the variation of another value."
   ]
  },
  {
   "cell_type": "code",
   "execution_count": 59,
   "metadata": {},
   "outputs": [],
   "source": [
    "# General imports\n",
    "import plotly.express as px\n",
    "import plotly.graph_objects as go\n",
    "import seaborn as sns\n",
    "import matplotlib.pyplot as plt\n",
    "import pandas as pd\n",
    "import numpy as np"
   ]
  },
  {
   "cell_type": "markdown",
   "metadata": {},
   "source": [
    "##### Base Health Plan"
   ]
  },
  {
   "cell_type": "markdown",
   "metadata": {},
   "source": [
    "###### Get base and set variables"
   ]
  },
  {
   "cell_type": "code",
   "execution_count": null,
   "metadata": {},
   "outputs": [],
   "source": [
    "base_health_plan = pd.read_csv('../examples/health_plan.csv')\n",
    "base_health_plan"
   ]
  },
  {
   "cell_type": "code",
   "execution_count": null,
   "metadata": {},
   "outputs": [],
   "source": [
    "# get ages\n",
    "x_health_plan = base_health_plan.iloc[:, 0].values\n",
    "x_health_plan"
   ]
  },
  {
   "cell_type": "code",
   "execution_count": null,
   "metadata": {},
   "outputs": [],
   "source": [
    "# reshape variable for apply like param of the learning model function\n",
    "x_health_plan_matrix = x_health_plan.reshape(-1, 1)\n",
    "x_health_plan_matrix"
   ]
  },
  {
   "cell_type": "code",
   "execution_count": 63,
   "metadata": {},
   "outputs": [
    {
     "data": {
      "text/plain": [
       "array([ 871, 1132, 1242, 1356, 1488, 1638, 2130, 2454, 3066, 4090],\n",
       "      dtype=int64)"
      ]
     },
     "execution_count": 63,
     "metadata": {},
     "output_type": "execute_result"
    }
   ],
   "source": [
    "# get costs\n",
    "y_health_plan = base_health_plan.iloc[:, 1].values\n",
    "y_health_plan"
   ]
  },
  {
   "cell_type": "code",
   "execution_count": 64,
   "metadata": {},
   "outputs": [
    {
     "data": {
      "text/plain": [
       "array([[1.        , 0.93091958],\n",
       "       [0.93091958, 1.        ]])"
      ]
     },
     "execution_count": 64,
     "metadata": {},
     "output_type": "execute_result"
    }
   ],
   "source": [
    "# covariation coefficient\n",
    "np.corrcoef(x_health_plan, y_health_plan)\n",
    "# means that 93,09% of costs of peoples can be explained by ages variation"
   ]
  },
  {
   "cell_type": "markdown",
   "metadata": {},
   "source": [
    "###### Learning"
   ]
  },
  {
   "cell_type": "code",
   "execution_count": null,
   "metadata": {},
   "outputs": [],
   "source": [
    "from sklearn.linear_model import LinearRegression\n",
    "\n",
    "regressor_health_plan = LinearRegression()\n",
    "regressor_health_plan.fit(x_health_plan_matrix, y_health_plan)"
   ]
  },
  {
   "cell_type": "code",
   "execution_count": null,
   "metadata": {},
   "outputs": [],
   "source": [
    "# b0 - constant\n",
    "regressor_health_plan.intercept_"
   ]
  },
  {
   "cell_type": "code",
   "execution_count": null,
   "metadata": {},
   "outputs": [],
   "source": [
    "# b1 - coeficient\n",
    "regressor_health_plan.coef_"
   ]
  },
  {
   "cell_type": "code",
   "execution_count": null,
   "metadata": {},
   "outputs": [],
   "source": [
    "# predict realize this equation for each value y = b0 + b1 * x1\n",
    "# x1 its the costs\n",
    "predict = regressor_health_plan.predict(x_health_plan_matrix)\n",
    "predict"
   ]
  },
  {
   "cell_type": "markdown",
   "metadata": {},
   "source": [
    "###### Graphics"
   ]
  },
  {
   "cell_type": "code",
   "execution_count": null,
   "metadata": {},
   "outputs": [],
   "source": [
    "# Generate graphic\n",
    "graphic = px.scatter(x=x_health_plan, y=y_health_plan)\n",
    "graphic.add_scatter(x=x_health_plan, y=predict, name='Regression')\n",
    "graphic.show()"
   ]
  },
  {
   "cell_type": "code",
   "execution_count": null,
   "metadata": {},
   "outputs": [],
   "source": [
    "regressor_health_plan.score(x_health_plan_matrix, y_health_plan)"
   ]
  },
  {
   "cell_type": "markdown",
   "metadata": {},
   "source": [
    "##### Base House's Price"
   ]
  },
  {
   "cell_type": "markdown",
   "metadata": {},
   "source": [
    "###### Get base and set variables"
   ]
  },
  {
   "cell_type": "code",
   "execution_count": null,
   "metadata": {},
   "outputs": [],
   "source": [
    "base_house = pd.read_csv('../examples/house_prices.csv')\n",
    "# remove column 'date' to generate heatmap\n",
    "base_house.drop('date', axis='columns', inplace=True)\n",
    "base_house"
   ]
  },
  {
   "cell_type": "code",
   "execution_count": null,
   "metadata": {},
   "outputs": [],
   "source": [
    "base_house.describe()"
   ]
  },
  {
   "cell_type": "code",
   "execution_count": null,
   "metadata": {},
   "outputs": [],
   "source": [
    "# verify how much null values was fouded\n",
    "base_house.isnull().sum()"
   ]
  },
  {
   "cell_type": "code",
   "execution_count": null,
   "metadata": {},
   "outputs": [],
   "source": [
    "fig = plt.figure(figsize=(20,20))\n",
    "# heatmap its necessary to identify correlations between categories\n",
    "# 1 = 100% of correlation\n",
    "sns.heatmap(base_house.corr(), annot=True)"
   ]
  },
  {
   "cell_type": "code",
   "execution_count": null,
   "metadata": {},
   "outputs": [],
   "source": [
    "x_houses = base_house.iloc[:, 4:5].values\n",
    "x_houses"
   ]
  },
  {
   "cell_type": "code",
   "execution_count": null,
   "metadata": {},
   "outputs": [],
   "source": [
    "y_houses = base_house.iloc[:, 1].values\n",
    "y_houses"
   ]
  },
  {
   "cell_type": "markdown",
   "metadata": {},
   "source": [
    "###### Learning"
   ]
  },
  {
   "cell_type": "code",
   "execution_count": 29,
   "metadata": {},
   "outputs": [],
   "source": [
    "# split base in test and trainning\n",
    "from sklearn.model_selection import train_test_split\n",
    "x_house_trainning, x_house_test, y_house_trainning, y_house_test = train_test_split(x_houses, y_houses, test_size = 0.3, random_state = 0)"
   ]
  },
  {
   "cell_type": "code",
   "execution_count": null,
   "metadata": {},
   "outputs": [],
   "source": [
    "x_house_trainning.shape, y_house_trainning.shape"
   ]
  },
  {
   "cell_type": "code",
   "execution_count": null,
   "metadata": {},
   "outputs": [],
   "source": [
    "x_house_test.shape, y_house_test.shape"
   ]
  },
  {
   "cell_type": "code",
   "execution_count": null,
   "metadata": {},
   "outputs": [],
   "source": [
    "from sklearn.linear_model import LinearRegression\n",
    "regressor_simple_houses = LinearRegression()\n",
    "regressor_simple_houses.fit(x_house_trainning, y_house_trainning)"
   ]
  },
  {
   "cell_type": "code",
   "execution_count": null,
   "metadata": {},
   "outputs": [],
   "source": [
    "# b0\n",
    "regressor_simple_houses.intercept_"
   ]
  },
  {
   "cell_type": "code",
   "execution_count": null,
   "metadata": {},
   "outputs": [],
   "source": [
    "# b1\n",
    "regressor_simple_houses.coef_"
   ]
  },
  {
   "cell_type": "code",
   "execution_count": null,
   "metadata": {},
   "outputs": [],
   "source": [
    "regressor_simple_houses.score(x_house_trainning, y_house_trainning)"
   ]
  },
  {
   "cell_type": "code",
   "execution_count": null,
   "metadata": {},
   "outputs": [],
   "source": [
    "regressor_simple_houses.score(x_house_test, y_house_test)"
   ]
  },
  {
   "cell_type": "code",
   "execution_count": null,
   "metadata": {},
   "outputs": [],
   "source": [
    "predict = regressor_simple_houses.predict(x_house_trainning)\n",
    "predict"
   ]
  },
  {
   "cell_type": "code",
   "execution_count": null,
   "metadata": {},
   "outputs": [],
   "source": [
    "predict_test = regressor_simple_houses.predict(x_house_test)\n",
    "predict_test"
   ]
  },
  {
   "cell_type": "code",
   "execution_count": null,
   "metadata": {},
   "outputs": [],
   "source": [
    "from sklearn.metrics import mean_absolute_error, mean_squared_error\n",
    "# margin of error to house's price\n",
    "mean_absolute_error(y_house_test, predict_test)\n",
    "#mean_squared_error(y_house_test, predict_test)"
   ]
  },
  {
   "cell_type": "markdown",
   "metadata": {},
   "source": [
    "###### Graphic"
   ]
  },
  {
   "cell_type": "code",
   "execution_count": null,
   "metadata": {},
   "outputs": [],
   "source": [
    "graphic = px.scatter(x = x_house_trainning.ravel(), y = predict)\n",
    "graphic.show()"
   ]
  },
  {
   "cell_type": "code",
   "execution_count": null,
   "metadata": {},
   "outputs": [],
   "source": [
    "graphic1 = px.scatter(x = x_house_trainning.ravel(), y = y_house_trainning)\n",
    "\n",
    "graphic2 = px.line(x = x_house_trainning.ravel(), y = predict)\n",
    "graphic2.data[0].line.color = 'red'\n",
    "\n",
    "graphic3 = go.Figure(data=graphic1.data + graphic2.data)\n",
    "graphic3"
   ]
  },
  {
   "cell_type": "code",
   "execution_count": null,
   "metadata": {},
   "outputs": [],
   "source": [
    "# Graphic with base test\n",
    "graphic1 = px.scatter(x = x_house_test.ravel(), y = y_house_test)\n",
    "\n",
    "graphic2 = px.line(x = x_house_test.ravel(), y = predict_test)\n",
    "graphic2.data[0].line.color = 'red'\n",
    "\n",
    "graphic3 = go.Figure(data=graphic1.data + graphic2.data)\n",
    "graphic3"
   ]
  },
  {
   "cell_type": "markdown",
   "metadata": {},
   "source": [
    "#### **Multiple Linear Regression**"
   ]
  },
  {
   "cell_type": "markdown",
   "metadata": {},
   "source": [
    "---\n",
    "Different of Linear Regression, Multiple Linear Regression considers more than one category to train and predict the result."
   ]
  },
  {
   "cell_type": "code",
   "execution_count": null,
   "metadata": {},
   "outputs": [],
   "source": [
    "# General imports\n",
    "import plotly.express as px\n",
    "import plotly.graph_objects as go\n",
    "import seaborn as sns\n",
    "import matplotlib.pyplot as plt\n",
    "import pandas as pd\n",
    "import numpy as np"
   ]
  },
  {
   "cell_type": "markdown",
   "metadata": {},
   "source": [
    "##### Base House's Price"
   ]
  },
  {
   "cell_type": "markdown",
   "metadata": {},
   "source": [
    "###### Get base and set variables"
   ]
  },
  {
   "cell_type": "code",
   "execution_count": null,
   "metadata": {},
   "outputs": [],
   "source": [
    "base_house = pd.read_csv('../examples/house_prices.csv')\n",
    "base_house"
   ]
  },
  {
   "cell_type": "code",
   "execution_count": null,
   "metadata": {},
   "outputs": [],
   "source": [
    "x_houses = base_house.iloc[:, 3:19].values\n",
    "x_houses"
   ]
  },
  {
   "cell_type": "code",
   "execution_count": null,
   "metadata": {},
   "outputs": [],
   "source": [
    "y_houses = base_house.iloc[:, 2].values\n",
    "y_houses"
   ]
  },
  {
   "cell_type": "code",
   "execution_count": 106,
   "metadata": {},
   "outputs": [],
   "source": [
    "# split base in test and trainning\n",
    "from sklearn.model_selection import train_test_split\n",
    "x_house_trainning, x_house_test, y_house_trainning, y_house_test = train_test_split(x_houses, y_houses, test_size = 0.3, random_state = 0)"
   ]
  },
  {
   "cell_type": "markdown",
   "metadata": {},
   "source": [
    "###### Learning"
   ]
  },
  {
   "cell_type": "code",
   "execution_count": null,
   "metadata": {},
   "outputs": [],
   "source": [
    "from sklearn.linear_model import LinearRegression\n",
    "regressor_multiple_houses = LinearRegression()\n",
    "regressor_multiple_houses.fit(x_house_trainning, y_house_trainning)"
   ]
  },
  {
   "cell_type": "code",
   "execution_count": null,
   "metadata": {},
   "outputs": [],
   "source": [
    "# b0\n",
    "regressor_multiple_houses.intercept_"
   ]
  },
  {
   "cell_type": "code",
   "execution_count": null,
   "metadata": {},
   "outputs": [],
   "source": [
    "# b1\n",
    "regressor_multiple_houses.coef_\n",
    "#len(regressor_multiple_houses.coef_)"
   ]
  },
  {
   "cell_type": "code",
   "execution_count": null,
   "metadata": {},
   "outputs": [],
   "source": [
    "regressor_multiple_houses.score(x_house_trainning, y_house_trainning)"
   ]
  },
  {
   "cell_type": "code",
   "execution_count": null,
   "metadata": {},
   "outputs": [],
   "source": [
    "regressor_multiple_houses.score(x_house_test, y_house_test)"
   ]
  },
  {
   "cell_type": "code",
   "execution_count": null,
   "metadata": {},
   "outputs": [],
   "source": [
    "predict = regressor_multiple_houses.predict(x_house_test)\n",
    "predict"
   ]
  },
  {
   "cell_type": "markdown",
   "metadata": {},
   "source": [
    "#### **Polinomial Regression**"
   ]
  },
  {
   "cell_type": "markdown",
   "metadata": {},
   "source": [
    "---\n",
    "In Polynomial Regression, different of Linear Regression, we generate a curve instead of a line."
   ]
  },
  {
   "cell_type": "code",
   "execution_count": 11,
   "metadata": {},
   "outputs": [],
   "source": [
    "# General imports\n",
    "import plotly.express as px\n",
    "import pandas as pd"
   ]
  },
  {
   "cell_type": "markdown",
   "metadata": {},
   "source": [
    "##### Base Health Plan"
   ]
  },
  {
   "cell_type": "code",
   "execution_count": null,
   "metadata": {},
   "outputs": [],
   "source": [
    "base_health_plan2 = pd.read_csv('../examples/health_plan2.csv')\n",
    "base_health_plan2"
   ]
  },
  {
   "cell_type": "code",
   "execution_count": 4,
   "metadata": {},
   "outputs": [],
   "source": [
    "x_health_plan2 = base_health_plan2.iloc[:, 0:1].values\n",
    "y_health_plan2 = base_health_plan2.iloc[:, 1].values"
   ]
  },
  {
   "cell_type": "code",
   "execution_count": 14,
   "metadata": {},
   "outputs": [],
   "source": [
    "# normalize values by squaring them\n",
    "poly = PolynomialFeatures(degree = 4)\n",
    "x_health_plan2_poly = poly.fit_transform(x_health_plan2)"
   ]
  },
  {
   "cell_type": "code",
   "execution_count": null,
   "metadata": {},
   "outputs": [],
   "source": [
    "# trainning\n",
    "regressor_health_poly = LinearRegression()\n",
    "regressor_health_poly.fit(x_health_plan2_poly, y_health_plan2)"
   ]
  },
  {
   "cell_type": "code",
   "execution_count": null,
   "metadata": {},
   "outputs": [],
   "source": [
    "# b0\n",
    "regressor_health_poly.intercept_"
   ]
  },
  {
   "cell_type": "code",
   "execution_count": null,
   "metadata": {},
   "outputs": [],
   "source": [
    "# b1 (n)\n",
    "regressor_health_poly.coef_"
   ]
  },
  {
   "cell_type": "code",
   "execution_count": null,
   "metadata": {},
   "outputs": [],
   "source": [
    "predict = regressor_health_poly.predict(x_health_plan2_poly)\n",
    "predict"
   ]
  },
  {
   "cell_type": "code",
   "execution_count": null,
   "metadata": {},
   "outputs": [],
   "source": [
    "graphic = px.scatter(x = x_health_plan2[:, 0], y = y_health_plan2)\n",
    "graphic.add_scatter(x = x_health_plan2[:, 0], y = predict, name = 'Regression')\n",
    "graphic.show()"
   ]
  },
  {
   "cell_type": "markdown",
   "metadata": {},
   "source": [
    "##### Base House's Prices"
   ]
  },
  {
   "cell_type": "code",
   "execution_count": null,
   "metadata": {},
   "outputs": [],
   "source": [
    "base_house = pd.read_csv('../examples/house_prices.csv')\n",
    "base_house"
   ]
  },
  {
   "cell_type": "code",
   "execution_count": null,
   "metadata": {},
   "outputs": [],
   "source": [
    "x_houses = base_house.iloc[:, 3:19].values\n",
    "x_houses"
   ]
  },
  {
   "cell_type": "code",
   "execution_count": null,
   "metadata": {},
   "outputs": [],
   "source": [
    "y_houses = base_house.iloc[:, 2].values\n",
    "y_houses"
   ]
  },
  {
   "cell_type": "code",
   "execution_count": 51,
   "metadata": {},
   "outputs": [],
   "source": [
    "# split base in test and trainning\n",
    "from sklearn.model_selection import train_test_split\n",
    "x_house_trainning, x_house_test, y_house_trainning, y_house_test = train_test_split(x_houses, y_houses, test_size = 0.3, random_state = 0)"
   ]
  },
  {
   "cell_type": "code",
   "execution_count": 52,
   "metadata": {},
   "outputs": [],
   "source": [
    "from sklearn.preprocessing import PolynomialFeatures\n",
    "# normalize\n",
    "poly = PolynomialFeatures(degree = 2)\n",
    "x_house_trainning_poly = poly.fit_transform(x_house_trainning)\n",
    "x_house_test_poly = poly.transform(x_house_test)"
   ]
  },
  {
   "cell_type": "code",
   "execution_count": null,
   "metadata": {},
   "outputs": [],
   "source": [
    "x_house_trainning_poly.shape, x_house_test_poly.shape"
   ]
  },
  {
   "cell_type": "code",
   "execution_count": null,
   "metadata": {},
   "outputs": [],
   "source": [
    "from sklearn.linear_model import LinearRegression\n",
    "# trainning\n",
    "regressor_houses_poly = LinearRegression()\n",
    "regressor_houses_poly.fit(x_house_trainning_poly, y_house_trainning)"
   ]
  },
  {
   "cell_type": "code",
   "execution_count": null,
   "metadata": {},
   "outputs": [],
   "source": [
    "regressor_houses_poly.score(x_house_trainning_poly, y_house_trainning)"
   ]
  },
  {
   "cell_type": "code",
   "execution_count": null,
   "metadata": {},
   "outputs": [],
   "source": [
    "regressor_houses_poly.score(x_house_test_poly, y_house_test)"
   ]
  },
  {
   "cell_type": "code",
   "execution_count": null,
   "metadata": {},
   "outputs": [],
   "source": [
    "predict = regressor_houses_poly.predict(x_house_test_poly)\n",
    "predict"
   ]
  },
  {
   "cell_type": "code",
   "execution_count": null,
   "metadata": {},
   "outputs": [],
   "source": [
    "from sklearn.metrics import mean_absolute_error\n",
    "mean_absolute_error(y_house_test, predict)"
   ]
  },
  {
   "cell_type": "markdown",
   "metadata": {},
   "source": [
    "#### **Tree Regression**"
   ]
  },
  {
   "cell_type": "markdown",
   "metadata": {},
   "source": [
    "---"
   ]
  },
  {
   "cell_type": "code",
   "execution_count": 14,
   "metadata": {},
   "outputs": [],
   "source": [
    "# General imports\n",
    "import plotly.express as px\n",
    "import pandas as pd\n",
    "import numpy as np"
   ]
  },
  {
   "cell_type": "markdown",
   "metadata": {},
   "source": [
    "##### Base Health Plan"
   ]
  },
  {
   "cell_type": "code",
   "execution_count": null,
   "metadata": {},
   "outputs": [],
   "source": [
    "base_health_plan2 = pd.read_csv('../examples/health_plan2.csv')\n",
    "base_health_plan2"
   ]
  },
  {
   "cell_type": "code",
   "execution_count": 4,
   "metadata": {},
   "outputs": [],
   "source": [
    "x_health_plan2 = base_health_plan2.iloc[:, 0:1].values\n",
    "y_health_plan2 = base_health_plan2.iloc[:, 1].values"
   ]
  },
  {
   "cell_type": "code",
   "execution_count": null,
   "metadata": {},
   "outputs": [],
   "source": [
    "from sklearn.tree import DecisionTreeRegressor\n",
    "# trainning\n",
    "regressor_tree_health = DecisionTreeRegressor()\n",
    "regressor_tree_health.fit(x_health_plan2, y_health_plan2)"
   ]
  },
  {
   "cell_type": "code",
   "execution_count": null,
   "metadata": {},
   "outputs": [],
   "source": [
    "predict = regressor_tree_health.predict(x_health_plan2)\n",
    "predict"
   ]
  },
  {
   "cell_type": "code",
   "execution_count": null,
   "metadata": {},
   "outputs": [],
   "source": [
    "regressor_tree_health.score(x_health_plan2, y_health_plan2)"
   ]
  },
  {
   "cell_type": "code",
   "execution_count": null,
   "metadata": {},
   "outputs": [],
   "source": [
    "x_test_tree = np.arange(min(x_health_plan2), max(x_health_plan2), 0.1).reshape(-1, 1)\n",
    "x_test_tree.shape"
   ]
  },
  {
   "cell_type": "code",
   "execution_count": null,
   "metadata": {},
   "outputs": [],
   "source": [
    "graphic = px.scatter(x = x_health_plan2.ravel(), y = y_health_plan2)\n",
    "graphic.add_scatter(x = x_test_tree.ravel(), y = regressor_tree_health.predict(x_test_tree), name = 'Regression')\n",
    "graphic.show()"
   ]
  },
  {
   "cell_type": "markdown",
   "metadata": {},
   "source": [
    "##### Base House's Prices"
   ]
  },
  {
   "cell_type": "code",
   "execution_count": null,
   "metadata": {},
   "outputs": [],
   "source": [
    "base_house = pd.read_csv('../examples/house_prices.csv')\n",
    "base_house"
   ]
  },
  {
   "cell_type": "code",
   "execution_count": null,
   "metadata": {},
   "outputs": [],
   "source": [
    "x_houses = base_house.iloc[:, 3:19].values\n",
    "x_houses"
   ]
  },
  {
   "cell_type": "code",
   "execution_count": null,
   "metadata": {},
   "outputs": [],
   "source": [
    "y_houses = base_house.iloc[:, 2].values\n",
    "y_houses"
   ]
  },
  {
   "cell_type": "code",
   "execution_count": 25,
   "metadata": {},
   "outputs": [],
   "source": [
    "# split base in test and trainning\n",
    "from sklearn.model_selection import train_test_split\n",
    "x_house_trainning, x_house_test, y_house_trainning, y_house_test = train_test_split(x_houses, y_houses, test_size = 0.3, random_state = 0)"
   ]
  },
  {
   "cell_type": "code",
   "execution_count": null,
   "metadata": {},
   "outputs": [],
   "source": [
    "from sklearn.tree import DecisionTreeRegressor\n",
    "\n",
    "regressor_tree_houses = DecisionTreeRegressor()\n",
    "regressor_tree_houses.fit(x_house_trainning, y_house_trainning)"
   ]
  },
  {
   "cell_type": "code",
   "execution_count": null,
   "metadata": {},
   "outputs": [],
   "source": [
    "regressor_tree_houses.score(x_house_trainning, y_house_trainning)"
   ]
  },
  {
   "cell_type": "code",
   "execution_count": null,
   "metadata": {},
   "outputs": [],
   "source": [
    "regressor_tree_houses.score(x_house_test, y_house_test)"
   ]
  },
  {
   "cell_type": "code",
   "execution_count": null,
   "metadata": {},
   "outputs": [],
   "source": [
    "predict = regressor_tree_houses.predict(x_house_test)\n",
    "predict"
   ]
  },
  {
   "cell_type": "markdown",
   "metadata": {},
   "source": [
    "### **Random Forest Regression**"
   ]
  },
  {
   "cell_type": "markdown",
   "metadata": {},
   "source": [
    "---"
   ]
  },
  {
   "cell_type": "code",
   "execution_count": 2,
   "metadata": {},
   "outputs": [],
   "source": [
    "# General imports\n",
    "import plotly.express as px\n",
    "import pandas as pd\n",
    "import numpy as np"
   ]
  },
  {
   "cell_type": "markdown",
   "metadata": {},
   "source": [
    "##### Base Health Plan"
   ]
  },
  {
   "cell_type": "code",
   "execution_count": 3,
   "metadata": {},
   "outputs": [],
   "source": [
    "# import base\n",
    "base_health_plan2 = pd.read_csv('../examples/health_plan2.csv')\n",
    "x_health_plan2 = base_health_plan2.iloc[:, 0:1].values\n",
    "y_health_plan2 = base_health_plan2.iloc[:, 1].values"
   ]
  },
  {
   "cell_type": "code",
   "execution_count": null,
   "metadata": {},
   "outputs": [],
   "source": [
    "# trainning\n",
    "from sklearn.ensemble import RandomForestRegressor\n",
    "regressor_random_forest_health = RandomForestRegressor(n_estimators = 10)\n",
    "regressor_random_forest_health.fit(x_health_plan2, y_health_plan2)"
   ]
  },
  {
   "cell_type": "code",
   "execution_count": null,
   "metadata": {},
   "outputs": [],
   "source": [
    "regressor_random_forest_health.score(x_health_plan2, y_health_plan2)"
   ]
  },
  {
   "cell_type": "code",
   "execution_count": null,
   "metadata": {},
   "outputs": [],
   "source": [
    "# create a range of real numbers to fill graphic like a line\n",
    "x_test_tree = np.arange(min(x_health_plan2), max(x_health_plan2), 0.1).reshape(-1, 1)\n",
    "x_test_tree.shape"
   ]
  },
  {
   "cell_type": "code",
   "execution_count": null,
   "metadata": {},
   "outputs": [],
   "source": [
    "graphic = px.scatter(x = x_health_plan2.ravel(), y = y_health_plan2)\n",
    "graphic.add_scatter(x = x_test_tree.ravel(), y = regressor_random_forest_health.predict(x_test_tree), name = 'Regression')\n",
    "graphic.show()"
   ]
  },
  {
   "cell_type": "markdown",
   "metadata": {},
   "source": [
    "##### Base House's Price"
   ]
  },
  {
   "cell_type": "code",
   "execution_count": 9,
   "metadata": {},
   "outputs": [],
   "source": [
    "# import base\n",
    "base_house = pd.read_csv('../examples/house_prices.csv')\n",
    "# get columns\n",
    "x_houses = base_house.iloc[:, 3:19].values\n",
    "y_houses = base_house.iloc[:, 2].values\n",
    "# split regs\n",
    "from sklearn.model_selection import train_test_split\n",
    "x_house_trainning, x_house_test, y_house_trainning, y_house_test = train_test_split(x_houses, y_houses, test_size = 0.3, random_state = 0)"
   ]
  },
  {
   "cell_type": "code",
   "execution_count": null,
   "metadata": {},
   "outputs": [],
   "source": [
    "# trainning\n",
    "regressor_random_forest_houses = RandomForestRegressor(n_estimators=100)\n",
    "regressor_random_forest_houses.fit(x_house_trainning, y_house_trainning)"
   ]
  },
  {
   "cell_type": "code",
   "execution_count": null,
   "metadata": {},
   "outputs": [],
   "source": [
    "# scores\n",
    "[regressor_random_forest_houses.score(x_house_trainning, y_house_trainning),\n",
    "regressor_random_forest_houses.score(x_house_test, y_house_test)]"
   ]
  },
  {
   "cell_type": "code",
   "execution_count": null,
   "metadata": {},
   "outputs": [],
   "source": [
    "predict = regressor_random_forest_houses.predict(x_house_test)\n",
    "predict"
   ]
  },
  {
   "cell_type": "markdown",
   "metadata": {},
   "source": [
    "### **SVM Regression**"
   ]
  },
  {
   "cell_type": "markdown",
   "metadata": {},
   "source": [
    "---"
   ]
  },
  {
   "cell_type": "code",
   "execution_count": null,
   "metadata": {},
   "outputs": [],
   "source": [
    "# General imports\n",
    "import plotly.express as px\n",
    "import pandas as pd\n",
    "import numpy as np\n",
    "\n",
    "from sklearn.svm import SVR\n",
    "from sklearn.preprocessing import StandardScaler"
   ]
  },
  {
   "cell_type": "markdown",
   "metadata": {},
   "source": [
    "##### Base Health Plan"
   ]
  },
  {
   "cell_type": "code",
   "execution_count": 25,
   "metadata": {},
   "outputs": [],
   "source": [
    "# import base\n",
    "base_health_plan2 = pd.read_csv('../examples/health_plan2.csv')\n",
    "x_health_plan2 = base_health_plan2.iloc[:, 0:1].values\n",
    "y_health_plan2 = base_health_plan2.iloc[:, 1].values"
   ]
  },
  {
   "cell_type": "code",
   "execution_count": 35,
   "metadata": {},
   "outputs": [],
   "source": [
    "from sklearn.preprocessing import StandardScaler\n",
    "# normalize\n",
    "scaler_x = StandardScaler()\n",
    "x_health_plan2_scaled = scaler_x.fit_transform(x_health_plan2)\n",
    "scaler_y = StandardScaler()\n",
    "y_health_plan2_scaled = scaler_y.fit_transform(y_health_plan2.reshape(-1,1))"
   ]
  },
  {
   "cell_type": "code",
   "execution_count": null,
   "metadata": {},
   "outputs": [],
   "source": [
    "# Linear Kernel\n",
    "regressor_svr_health_linear = SVR(kernel = 'linear')\n",
    "regressor_svr_health_linear.fit(x_health_plan2, y_health_plan2)\n",
    "\n",
    "graphic = px.scatter(x = x_health_plan2.ravel(), y = y_health_plan2)\n",
    "graphic.add_scatter(x = x_health_plan2.ravel(), y = regressor_svr_health_linear.predict(x_health_plan2), name = 'Regression')"
   ]
  },
  {
   "cell_type": "code",
   "execution_count": null,
   "metadata": {},
   "outputs": [],
   "source": [
    "# Polinomial Kernel\n",
    "regressor_svr_health_poly = SVR(kernel = 'poly', degree = 4)\n",
    "regressor_svr_health_poly.fit(x_health_plan2, y_health_plan2)\n",
    "\n",
    "graphic = px.scatter(x = x_health_plan2.ravel(), y = y_health_plan2)\n",
    "graphic.add_scatter(x = x_health_plan2.ravel(), y = regressor_svr_health_poly.predict(x_health_plan2), name = 'Regression')"
   ]
  },
  {
   "cell_type": "code",
   "execution_count": null,
   "metadata": {},
   "outputs": [],
   "source": [
    "# RBF Kernel\n",
    "regressor_svr_health_rbf = SVR(kernel = 'rbf')\n",
    "regressor_svr_health_rbf.fit(x_health_plan2_scaled, y_health_plan2_scaled.ravel())\n",
    "\n",
    "graphic = px.scatter(x = x_health_plan2_scaled.ravel(), y = y_health_plan2_scaled.ravel())\n",
    "graphic.add_scatter(x = x_health_plan2_scaled.ravel(), y = regressor_svr_health_rbf.predict(x_health_plan2_scaled), name = 'Regression')"
   ]
  },
  {
   "cell_type": "markdown",
   "metadata": {},
   "source": [
    "##### Base House's Price"
   ]
  },
  {
   "cell_type": "code",
   "execution_count": 42,
   "metadata": {},
   "outputs": [],
   "source": [
    "# import base\n",
    "base_house = pd.read_csv('../examples/house_prices.csv')\n",
    "# get columns\n",
    "x_houses = base_house.iloc[:, 3:19].values\n",
    "y_houses = base_house.iloc[:, 2].values\n",
    "# split regs\n",
    "from sklearn.model_selection import train_test_split\n",
    "x_house_trainning, x_house_test, y_house_trainning, y_house_test = train_test_split(x_houses, y_houses, test_size = 0.3, random_state = 0)"
   ]
  },
  {
   "cell_type": "code",
   "execution_count": 49,
   "metadata": {},
   "outputs": [],
   "source": [
    "# normalize\n",
    "scaler_x_trainning = StandardScaler()\n",
    "x_house_trainning_scaled = scaler_x_trainning.fit_transform(x_house_trainning)\n",
    "scaler_y_trainning = StandardScaler()\n",
    "y_house_trainning_scaled = scaler_y_trainning.fit_transform(y_house_trainning.reshape(-1,1))\n",
    "\n",
    "scaler_x_test = StandardScaler()\n",
    "x_house_test_scaled = scaler_x_test.fit_transform(x_house_test)\n",
    "scaler_y_test = StandardScaler()\n",
    "y_house_test_scaled = scaler_y_test.fit_transform(y_house_test.reshape(-1,1))"
   ]
  },
  {
   "cell_type": "code",
   "execution_count": null,
   "metadata": {},
   "outputs": [],
   "source": [
    "# trainning\n",
    "regressor_svr_houses = SVR(kernel='rbf')\n",
    "regressor_svr_houses.fit(x_house_trainning_scaled, y_house_trainning_scaled.ravel())"
   ]
  },
  {
   "cell_type": "code",
   "execution_count": null,
   "metadata": {},
   "outputs": [],
   "source": [
    "# scores\n",
    "[regressor_svr_houses.score(x_house_trainning_scaled, y_house_trainning_scaled),\n",
    "regressor_svr_houses.score(x_house_test_scaled, y_house_test_scaled)]"
   ]
  },
  {
   "cell_type": "code",
   "execution_count": null,
   "metadata": {},
   "outputs": [],
   "source": [
    "predict = regressor_svr_houses.predict(x_house_test_scaled)\n",
    "predict"
   ]
  }
 ],
 "metadata": {
  "kernelspec": {
   "display_name": "Python 3",
   "language": "python",
   "name": "python3"
  },
  "language_info": {
   "codemirror_mode": {
    "name": "ipython",
    "version": 3
   },
   "file_extension": ".py",
   "mimetype": "text/x-python",
   "name": "python",
   "nbconvert_exporter": "python",
   "pygments_lexer": "ipython3",
   "version": "3.12.1"
  }
 },
 "nbformat": 4,
 "nbformat_minor": 2
}
